{
 "cells": [
  {
   "cell_type": "code",
   "execution_count": 1,
   "metadata": {},
   "outputs": [],
   "source": [
    "from datasets import CamelsH5, CamelsTXT\n",
    "from datautils import add_camels_attributes, rescale_features\n",
    "from datautils import (load_attributes, load_discharge, load_forcing, normalize_features,\n",
    "                        reshape_data)\n",
    "import main2\n",
    "import os"
   ]
  },
  {
   "cell_type": "code",
   "execution_count": 2,
   "metadata": {},
   "outputs": [],
   "source": [
    "camels_root = f\"/home/rjohnson18/lstm_for_GSL/data/\""
   ]
  },
  {
   "cell_type": "code",
   "execution_count": 3,
   "metadata": {},
   "outputs": [
    {
     "name": "stdout",
     "output_type": "stream",
     "text": [
      "/home/rjohnson18/lstm_for_GSL/data/camels_attributes_v2.0/camels_topo.txt\n",
      "/home/rjohnson18/lstm_for_GSL/data/camels_attributes_v2.0/camels_geol.txt\n",
      "/home/rjohnson18/lstm_for_GSL/data/camels_attributes_v2.0/camels_chars.txt\n",
      "/home/rjohnson18/lstm_for_GSL/data/camels_attributes_v2.0/camels_clim.txt\n",
      "/home/rjohnson18/lstm_for_GSL/data/camels_attributes_v2.0/camels_vege.txt\n",
      "/home/rjohnson18/lstm_for_GSL/data/camels_attributes_v2.0/camels_hydro.txt\n",
      "/home/rjohnson18/lstm_for_GSL/data/camels_attributes_v2.0/camels_name.txt\n",
      "/home/rjohnson18/lstm_for_GSL/data/camels_attributes_v2.0/camels_soil.txt\n",
      "Sucessfully stored basin attributes in /home/rjohnson18/lstm_for_GSL/data/attributes.db.\n"
     ]
    }
   ],
   "source": [
    "add_camels_attributes(camels_root)"
   ]
  },
  {
   "cell_type": "code",
   "execution_count": null,
   "metadata": {},
   "outputs": [],
   "source": []
  }
 ],
 "metadata": {
  "kernelspec": {
   "display_name": "LSTM_env",
   "language": "python",
   "name": "python3"
  },
  "language_info": {
   "codemirror_mode": {
    "name": "ipython",
    "version": 3
   },
   "file_extension": ".py",
   "mimetype": "text/x-python",
   "name": "python",
   "nbconvert_exporter": "python",
   "pygments_lexer": "ipython3",
   "version": "3.11.7"
  }
 },
 "nbformat": 4,
 "nbformat_minor": 2
}
